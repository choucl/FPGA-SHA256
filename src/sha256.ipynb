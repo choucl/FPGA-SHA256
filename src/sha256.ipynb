{
 "cells": [
  {
   "cell_type": "markdown",
   "metadata": {},
   "source": [
    "## Import necessary headers"
   ]
  },
  {
   "cell_type": "code",
   "execution_count": 188,
   "metadata": {},
   "outputs": [
    {
     "name": "stdout",
     "output_type": "stream",
     "text": [
      "User Current Version:- 3.6.5 (default, Apr  1 2018, 05:46:30) \n",
      "[GCC 7.3.0]\n"
     ]
    }
   ],
   "source": [
    "from pynq import Overlay\n",
    "from pynq import MMIO\n",
    "from pynq import allocate\n",
    "import random\n",
    "import string\n",
    "import numpy as np\n",
    "import sys\n",
    "import hashlib\n",
    "import timeit\n",
    "print(\"User Current Version:-\", sys.version)"
   ]
  },
  {
   "cell_type": "markdown",
   "metadata": {},
   "source": [
    "## Generate input"
   ]
  },
  {
   "cell_type": "code",
   "execution_count": 220,
   "metadata": {},
   "outputs": [],
   "source": [
    "num = 10\n",
    "def gen_input(num):\n",
    "    '''\n",
    "    Generate num random inputs\n",
    "    @Output rand_inputs: random generated ndarray of uint32\n",
    "    @Output frags: number of fragments\n",
    "    '''\n",
    "    \n",
    "    origin_inputs = []\n",
    "    rand_inputs = []\n",
    "    frags = []\n",
    "    for i in range(num):\n",
    "        N = random.randint(1, 1000)\n",
    "        rand_bytes = [random.randint(0, sys.maxsize) for i in range(N)]\n",
    "        \n",
    "        rand_bytes.append(0x70000000)\n",
    "        zeros = 14 - N % 16\n",
    "        zeros = zeros if zeros >= 0 else zeros + 16\n",
    "        rand_bytes += [0 for i in range(zeros)]\n",
    "        rand_bytes += rand_bytes[0:2]\n",
    "        rand_bytes = np.array(rand_bytes)\n",
    "        \n",
    "    \n",
    "        rand_inputs.append(rand_bytes)\n",
    "        frags.append((len(rand_bytes)) // 16)\n",
    "        origin_inputs.append(rand_bytes)\n",
    "    \n",
    "    return rand_inputs, origin_inputs, frags\n",
    "inputs, origins, frags = gen_input(num)"
   ]
  },
  {
   "cell_type": "markdown",
   "metadata": {},
   "source": [
    "## Software SHA-256"
   ]
  },
  {
   "cell_type": "code",
   "execution_count": 221,
   "metadata": {},
   "outputs": [
    {
     "name": "stdout",
     "output_type": "stream",
     "text": [
      "[27, 12, 57, 13, 11, 27, 43, 33, 9, 48]\n",
      "cd389354b46b184d234b590e7930f43425d8e02e03b29fc9537f280b6319b352\n",
      "536f91d757b17e03319d0eaeca94d559e10185c527b57523864080e422958c0a\n",
      "59d314ae944edb275e16e39fb664eca75640109efd6003e5858390f04ccb06b8\n",
      "075776c9fa87e466fde5e8e5d5e01725920825a18ea0735ce6221a855112f6d4\n",
      "79c28fafb5a09350c3afd60682ba15fdebd6784af8b386ed887a101c7c02cb3e\n",
      "6bad11b7039bed8288d229e709a436d7a8f1d6303cf74b59d814910ebbede216\n",
      "e2853c9a90b83f90b263e1db1cdc54cc71e0aab24ccf253d695218d5a84a8042\n",
      "9e28a77592fbc0df3fa9b26af305650c029f805ebc3e949c25dec01c923c11e9\n",
      "a3de2e9cab24ca788f38d9acbc4855bd3d57379faf0917843258f331ea9b89a6\n",
      "570628e3295f885dcd3818fba13880077a8043ed2d5aea4e74a1ed4feb8af2fc\n",
      "total time:  21.885697254998377\n"
     ]
    }
   ],
   "source": [
    "k = np.array([\n",
    "   0x428a2f98, 0x71374491, 0xb5c0fbcf, 0xe9b5dba5, 0x3956c25b, 0x59f111f1, 0x923f82a4, 0xab1c5ed5,\n",
    "   0xd807aa98, 0x12835b01, 0x243185be, 0x550c7dc3, 0x72be5d74, 0x80deb1fe, 0x9bdc06a7, 0xc19bf174,\n",
    "   0xe49b69c1, 0xefbe4786, 0x0fc19dc6, 0x240ca1cc, 0x2de92c6f, 0x4a7484aa, 0x5cb0a9dc, 0x76f988da,\n",
    "   0x983e5152, 0xa831c66d, 0xb00327c8, 0xbf597fc7, 0xc6e00bf3, 0xd5a79147, 0x06ca6351, 0x14292967,\n",
    "   0x27b70a85, 0x2e1b2138, 0x4d2c6dfc, 0x53380d13, 0x650a7354, 0x766a0abb, 0x81c2c92e, 0x92722c85,\n",
    "   0xa2bfe8a1, 0xa81a664b, 0xc24b8b70, 0xc76c51a3, 0xd192e819, 0xd6990624, 0xf40e3585, 0x106aa070,\n",
    "   0x19a4c116, 0x1e376c08, 0x2748774c, 0x34b0bcb5, 0x391c0cb3, 0x4ed8aa4a, 0x5b9cca4f, 0x682e6ff3,\n",
    "   0x748f82ee, 0x78a5636f, 0x84c87814, 0x8cc70208, 0x90befffa, 0xa4506ceb, 0xbef9a3f7, 0xc67178f2], dtype=np.uint32)\n",
    "\n",
    "def rightRotate(n, d):\n",
    "    return (n >> d) | (n << (32 - d)) & 0xFFFFFFFF\n",
    "\n",
    "def sha_256(sha_input, frags):\n",
    "    start = timeit.default_timer()\n",
    "    acc = np.array([0x6a09e667, 0xbb67ae85, 0x3c6ef372, 0xa54ff53a,\n",
    "                    0x510e527f, 0x9b05688c, 0x1f83d9ab, 0x5be0cd19], dtype=np.uint32)\n",
    "    for iteration in range(frags):\n",
    "        w = []\n",
    "        for i in range(16):\n",
    "            w.append(sha_input[i + iteration * 16])\n",
    "        for i in range(16, 64):\n",
    "            s0 = rightRotate(w[i - 15], 7) ^ rightRotate(w[i - 15], 18) ^ (w[i-15] >> 3)\n",
    "            s1 = rightRotate(w[i - 2], 17) ^ rightRotate(w[i - 2], 19) ^ (w[i-2] >> 10)\n",
    "            w.append((w[i - 16] + s0 + w[i - 7] + s1) & 0xffffffff)\n",
    "        tmp = np.copy(acc)\n",
    "        for i in range(64):\n",
    "            s0 = rightRotate(tmp[0], 2) ^ rightRotate(tmp[0], 13) ^ rightRotate(tmp[0], 22)\n",
    "            maj = (tmp[0] & tmp[1]) ^ (tmp[0] & tmp[2]) ^ (tmp[1] & tmp[2])\n",
    "            t2 = s0 + maj\n",
    "            s1 = rightRotate(tmp[4], 6) ^ rightRotate(tmp[4], 11) ^ rightRotate(tmp[4], 25)\n",
    "            ch = (tmp[4] & tmp[5]) ^ (~tmp[4] & tmp[6])\n",
    "            t1 = tmp[7] + s1 + ch + k[i] + w[i]\n",
    "            \n",
    "            tmp[7], tmp[6], tmp[5], tmp[4], tmp[3], tmp[2], tmp[1], tmp[0] = \\\n",
    "            tmp[6], tmp[5], tmp[4], (tmp[3] + t1) & 0xffffffff, tmp[2], tmp[1], tmp[0], (t1 + t2) & 0xffffffff\n",
    "        acc += tmp\n",
    "    return acc, timeit.default_timer() - start\n",
    "\n",
    "\n",
    "print(frags)\n",
    "total_time = 0\n",
    "for i in range(len(frags)):\n",
    "    hash_val, interval = sha_256(inputs[i], frags[i])\n",
    "    output = ''\n",
    "    for i in range(8):\n",
    "        output += str(hex(hash_val[i]))[2:].zfill(8)\n",
    "    print(output)\n",
    "    total_time += interval\n",
    "print(\"total time: \", total_time)"
   ]
  },
  {
   "cell_type": "code",
   "execution_count": 222,
   "metadata": {},
   "outputs": [
    {
     "name": "stdout",
     "output_type": "stream",
     "text": [
      "972135aab4940c8b0bf8cc67ee19428699d76a93c9ff998b157b329ec2c3b88c\n",
      "c0405a78808eb7373eae08ada74013379615600133fdae1edf9ddb189f560cfa\n",
      "444c1eb8265881e971bceab598235b31a79f0ef539c4db081e3c1c41b795c362\n",
      "352d917713b710443adbe6f0fc74c1d62fa69b88ddb1b98c515515c9d731074d\n",
      "da8c2c3911cd4c4b86f16400bae4cfe0a3b31da2e153d87e2a8db7c7b33583b1\n",
      "a89f417ad12c20d657bed19d9e49887021a28fff1035ee330cfdc1ad78b47111\n",
      "298d4f095ec2f950d52dcad1fcc95495baad429dbe8804f2ea0c6c4aa548cfe3\n",
      "2c52a7bd59374c044f9b7930890db596b0f8e9064d0fac6f47bfffd6c3d4d0bc\n",
      "ba30347560229b5061a031515b4537281e363f9fcc34445305e021e8b13e2ee8\n",
      "648d808097eff9df04d0f61f4028c134792bd2f2dfc79f3a3c4e4f856f2156d1\n",
      "total time:  0.09331553900119616\n"
     ]
    }
   ],
   "source": [
    "start = timeit.default_timer()\n",
    "\n",
    "for i in range(len(origins)):\n",
    "    m = hashlib.sha256()\n",
    "    for j in range(len(origins[i])):\n",
    "        m.update(inputs[i][j])\n",
    "    print(m.hexdigest())\n",
    "print(\"total time: \", timeit.default_timer() - start)"
   ]
  },
  {
   "cell_type": "markdown",
   "metadata": {},
   "source": [
    "## PL SHA-256"
   ]
  },
  {
   "cell_type": "code",
   "execution_count": null,
   "metadata": {},
   "outputs": [],
   "source": [
    "BRAM0_ADDR = Lab_Design.ip_dict['axi_bram_ctrl_0']['phys_addr']\n",
    "BRAM0_ADDR_range = Lab_Design.ip_dict['axi_bram_ctrl_0']['addr_range']\n",
    "BRAM0_MMIO = MMIO(BRAM0_ADDR, BRAM0_ADDR_range)\n",
    "BRAM1_ADDR = Lab_Design.ip_dict['axi_bram_ctrl_1']['phys_addr']\n",
    "BRAM1_ADDR_range = Lab_Design.ip_dict['axi_bram_ctrl_1']['addr_range']\n",
    "BRAM1_MMIO = MMIO(BRAM0_ADDR, BRAM0_ADDR_range)\n",
    "BRAM2_ADDR = Lab_Design.ip_dict['axi_bram_ctrl_2']['phys_addr']\n",
    "BRAM2_ADDR_range = Lab_Design.ip_dict['axi_bram_ctrl_2']['addr_range']\n",
    "BRAM2_MMIO = MMIO(BRAM0_ADDR, BRAM0_ADDR_range)\n",
    "BRAM3_ADDR = Lab_Design.ip_dict['axi_bram_ctrl_3']['phys_addr']\n",
    "BRAM3_ADDR_range = Lab_Design.ip_dict['axi_bram_ctrl_3']['addr_range']\n",
    "BRAM3_MMIO = MMIO(BRAM0_ADDR, BRAM0_ADDR_range)\n",
    "\n",
    "GPIO0_ADDR = Lab_Design.ip_dict['axi_gpio_0']['phys_addr']           # size_ins\n",
    "GPIO0_ADDR_range = Lab_Design.ip_dict['axi_gpio_0']['addr_range']\n",
    "GPIO1_ADDR = Lab_Design.ip_dict['axi_gpio_1']['phys_addr']           # start / clear\n",
    "GPIO1_ADDR_range = Lab_Design.ip_dict['axi_gpio_1']['addr_range']\n",
    "GPIO2_ADDR = Lab_Design.ip_dict['axi_gpio_2']['phys_addr']           # valid\n",
    "GPIO2_ADDR_range = Lab_Design.ip_dict['axi_gpio_2']['addr_range']\n",
    "GPIO0_MMIO = MMIO(GPIO0_ADDR, GPIO0_ADDR_range)\n",
    "GPIO1_MMIO = MMIO(GPIO1_ADDR, GPIO1_ADDR_range)\n",
    "GPIO2_MMIO = MMIO(GPIO2_ADDR, GPIO2_ADDR_range)\n",
    "\n",
    "bram_addrs = [BRAM0_ADDR, BRAM1_ADDR, BRAM2_ADDR, BRAM3_ADDR]\n",
    "bram_ranges = [BRAM0_ADDR_range, BRAM1_ADDR_range, BRAM2_ADDR_range, BRAM3_ADDR_range]\n",
    "bram_mmio = [BRAM0_MMIO, BRAM1_MMIO, BRAM2_MMIO, BRAM3_MMIO]"
   ]
  },
  {
   "cell_type": "code",
   "execution_count": 223,
   "metadata": {},
   "outputs": [
    {
     "ename": "SyntaxError",
     "evalue": "unexpected EOF while parsing (<ipython-input-223-e851406935a2>, line 6)",
     "output_type": "error",
     "traceback": [
      "\u001b[0;36m  File \u001b[0;32m\"<ipython-input-223-e851406935a2>\"\u001b[0;36m, line \u001b[0;32m6\u001b[0m\n\u001b[0;31m    for i in range(4):\u001b[0m\n\u001b[0m                      ^\u001b[0m\n\u001b[0;31mSyntaxError\u001b[0m\u001b[0;31m:\u001b[0m unexpected EOF while parsing\n"
     ]
    }
   ],
   "source": [
    "start_sigs = [0, 0, 0, 0]\n",
    "\n",
    "q = []\n",
    "\n",
    "def send_size_sig(n, fragments):\n",
    "    GPIO0_MMIO.write(0, n << 6 + fragments)\n",
    "\n",
    "def send_start_sig():\n",
    "    val = 0\n",
    "    for i in start_sigs:\n",
    "        val << 1\n",
    "        val += start_sigs\n",
    "    GPIO1_MMIO.write(0, start_sigs)\n",
    "    \n",
    "def parse_valid_sig(valid):\n",
    "    has_valid = 0\n",
    "    for i in range(4):\n",
    "        x = valid & 0x1\n",
    "        if (x == 1):\n",
    "            q.append(i)  # i is ready for next input\n",
    "            start_sigs[i] = 0\n",
    "            has_valid = 1\n",
    "        valid >> 1\n",
    "    send_start_sig()\n",
    "    return has_valid\n",
    "\n",
    "def get_result(n):\n",
    "    for i in range(0, 32, 4):\n",
    "        x = bram_mmio[n].read(i)\n",
    "        output = ''\n",
    "        output += hex(x)[2:].zfill(8)\n",
    "    print(output)\n",
    "\n",
    "cur_input = 0\n",
    "\n",
    "for i in range(4):\n",
    "    for j in range(len(inputs[cur_input])): \n",
    "        bram_mmio[i].write(j * 4, int(inputs[cur_input][j]))\n",
    "    start_sigs[i] = 1\n",
    "    send_size_sig(i, frags[cur_inpts])\n",
    "    send_start_sig(i)\n",
    "    cur_input += 1\n",
    "    if cur_input > num:\n",
    "        break;\n",
    "\n",
    "while (cur_input < num):\n",
    "    while (!parse_valid_sig()):\n",
    "        continue\n",
    "    for i in q:\n",
    "        get_result(i)\n",
    "        for j in range(len(inputs[cur_input])): \n",
    "            bram_mmio[i].write(j * 4, int(inputs[cur_input][j]))\n",
    "        start_sigs[i] = 1\n",
    "        send_size_sig(i, frags[cur_inpts])\n",
    "        send_start_sig(i)\n",
    "        cur_input += 1\n"
   ]
  },
  {
   "cell_type": "code",
   "execution_count": null,
   "metadata": {},
   "outputs": [],
   "source": []
  }
 ],
 "metadata": {
  "kernelspec": {
   "display_name": "Python 3",
   "language": "python",
   "name": "python3"
  },
  "language_info": {
   "codemirror_mode": {
    "name": "ipython",
    "version": 3
   },
   "file_extension": ".py",
   "mimetype": "text/x-python",
   "name": "python",
   "nbconvert_exporter": "python",
   "pygments_lexer": "ipython3",
   "version": "3.6.5"
  }
 },
 "nbformat": 4,
 "nbformat_minor": 2
}
