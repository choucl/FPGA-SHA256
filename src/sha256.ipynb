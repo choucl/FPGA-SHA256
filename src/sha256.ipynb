{
 "cells": [
  {
   "cell_type": "markdown",
   "metadata": {},
   "source": [
    "## Import necessary headers"
   ]
  },
  {
   "cell_type": "code",
   "execution_count": 1,
   "metadata": {},
   "outputs": [
    {
     "data": {
      "application/javascript": [
       "\n",
       "try {\n",
       "require(['notebook/js/codecell'], function(codecell) {\n",
       "  codecell.CodeCell.options_default.highlight_modes[\n",
       "      'magic_text/x-csrc'] = {'reg':[/^%%microblaze/]};\n",
       "  Jupyter.notebook.events.one('kernel_ready.Kernel', function(){\n",
       "      Jupyter.notebook.get_cells().map(function(cell){\n",
       "          if (cell.cell_type == 'code'){ cell.auto_highlight(); } }) ;\n",
       "  });\n",
       "});\n",
       "} catch (e) {};\n"
      ]
     },
     "metadata": {},
     "output_type": "display_data"
    },
    {
     "data": {
      "application/javascript": [
       "\n",
       "try {\n",
       "require(['notebook/js/codecell'], function(codecell) {\n",
       "  codecell.CodeCell.options_default.highlight_modes[\n",
       "      'magic_text/x-csrc'] = {'reg':[/^%%pybind11/]};\n",
       "  Jupyter.notebook.events.one('kernel_ready.Kernel', function(){\n",
       "      Jupyter.notebook.get_cells().map(function(cell){\n",
       "          if (cell.cell_type == 'code'){ cell.auto_highlight(); } }) ;\n",
       "  });\n",
       "});\n",
       "} catch (e) {};\n"
      ]
     },
     "metadata": {},
     "output_type": "display_data"
    },
    {
     "name": "stdout",
     "output_type": "stream",
     "text": [
      "User Current Version:- 3.6.5 (default, Apr  1 2018, 05:46:30) \n",
      "[GCC 7.3.0]\n"
     ]
    }
   ],
   "source": [
    "from pynq import Overlay\n",
    "from pynq import MMIO\n",
    "from pynq import allocate\n",
    "import random\n",
    "import string\n",
    "import numpy as np\n",
    "import sys\n",
    "import hashlib\n",
    "import timeit\n",
    "print(\"User Current Version:-\", sys.version)"
   ]
  },
  {
   "cell_type": "markdown",
   "metadata": {},
   "source": [
    "## Generate input"
   ]
  },
  {
   "cell_type": "code",
   "execution_count": 8,
   "metadata": {},
   "outputs": [],
   "source": [
    "num = 10\n",
    "random.seed(0)\n",
    "def gen_input(num):\n",
    "    '''\n",
    "    Generate num random inputs\n",
    "    @Output rand_inputs: random generated ndarray of uint32\n",
    "    @Output frags: number of fragments\n",
    "    '''\n",
    "    \n",
    "    origin_inputs = []\n",
    "    rand_inputs = []\n",
    "    frags = []\n",
    "    for i in range(num):\n",
    "        N = random.randint(1, 1000)\n",
    "        rand_bytes = [random.randint(0, sys.maxsize) for i in range(N)]\n",
    "        \n",
    "        rand_bytes.append(0x70000000)\n",
    "        zeros = 14 - N % 16\n",
    "        zeros = zeros if zeros >= 0 else zeros + 16\n",
    "        rand_bytes += [0 for i in range(zeros)]\n",
    "        rand_bytes += rand_bytes[0:2]\n",
    "        rand_bytes = np.array(rand_bytes)\n",
    "        \n",
    "    \n",
    "        rand_inputs.append(rand_bytes)\n",
    "        frags.append((len(rand_bytes)) // 16)\n",
    "        origin_inputs.append(rand_bytes)\n",
    "    \n",
    "    return rand_inputs, origin_inputs, frags\n",
    "inputs, origins, frags = gen_input(num)"
   ]
  },
  {
   "cell_type": "markdown",
   "metadata": {},
   "source": [
    "## Software SHA-256"
   ]
  },
  {
   "cell_type": "code",
   "execution_count": 9,
   "metadata": {},
   "outputs": [
    {
     "name": "stdout",
     "output_type": "stream",
     "text": [
      "[55, 40, 1, 56, 15, 16, 56, 29, 27, 51]\n",
      "aafb3ff3c9890b17ef1a39fbc41ac30b08ec2feb2e23601a904feaa8c6c8bca0\n",
      "8a229da1f7f8187df221a7d1ca6d5abc4a031af32b96deada5f148295c83ac98\n",
      "9c8f3d868f1555c66cf056227a4abdc565734d7e2a9985690c16a87e94a1c105\n",
      "8a712c7803fca72cf206c060129dc63d991ae626a2cf24ab4a508cfeeb46f3a3\n",
      "eb12ae5b3e0dda33720b388925e689958966de3cce39c7a27da86c0f803c52af\n",
      "e2ec1e4f9b4837a439efb445b40b268cf29d5f32ccaa8fe6fcd2a99246ffdf29\n",
      "5fe3c64b3615745d76bfb017663577f788eecb6ae318bd91c63af9f8f05be2d1\n",
      "30a3cc54e0d25cc3fc9ed36fc65af7b792bc4fb3e7082dfa6d472c9346e5cce0\n",
      "2095d4680708653813a7daca0cc4a6de480924832d13265d503ac33116514153\n",
      "8e018609a8722f0bb721e23760331331106db1f894c8f8a543828868d4b5fade\n",
      "total time:  27.015913214999273\n"
     ]
    }
   ],
   "source": [
    "k = np.array([\n",
    "   0x428a2f98, 0x71374491, 0xb5c0fbcf, 0xe9b5dba5, 0x3956c25b, 0x59f111f1, 0x923f82a4, 0xab1c5ed5,\n",
    "   0xd807aa98, 0x12835b01, 0x243185be, 0x550c7dc3, 0x72be5d74, 0x80deb1fe, 0x9bdc06a7, 0xc19bf174,\n",
    "   0xe49b69c1, 0xefbe4786, 0x0fc19dc6, 0x240ca1cc, 0x2de92c6f, 0x4a7484aa, 0x5cb0a9dc, 0x76f988da,\n",
    "   0x983e5152, 0xa831c66d, 0xb00327c8, 0xbf597fc7, 0xc6e00bf3, 0xd5a79147, 0x06ca6351, 0x14292967,\n",
    "   0x27b70a85, 0x2e1b2138, 0x4d2c6dfc, 0x53380d13, 0x650a7354, 0x766a0abb, 0x81c2c92e, 0x92722c85,\n",
    "   0xa2bfe8a1, 0xa81a664b, 0xc24b8b70, 0xc76c51a3, 0xd192e819, 0xd6990624, 0xf40e3585, 0x106aa070,\n",
    "   0x19a4c116, 0x1e376c08, 0x2748774c, 0x34b0bcb5, 0x391c0cb3, 0x4ed8aa4a, 0x5b9cca4f, 0x682e6ff3,\n",
    "   0x748f82ee, 0x78a5636f, 0x84c87814, 0x8cc70208, 0x90befffa, 0xa4506ceb, 0xbef9a3f7, 0xc67178f2], dtype=np.uint32)\n",
    "\n",
    "def rightRotate(n, d):\n",
    "    return (n >> d) | (n << (32 - d)) & 0xFFFFFFFF\n",
    "\n",
    "def sha_256(sha_input, frags):\n",
    "    start = timeit.default_timer()\n",
    "    acc = np.array([0x6a09e667, 0xbb67ae85, 0x3c6ef372, 0xa54ff53a,\n",
    "                    0x510e527f, 0x9b05688c, 0x1f83d9ab, 0x5be0cd19], dtype=np.uint32)\n",
    "    for iteration in range(frags):\n",
    "        w = []\n",
    "        for i in range(16):\n",
    "            w.append(sha_input[i + iteration * 16])\n",
    "        for i in range(16, 64):\n",
    "            s0 = rightRotate(w[i - 15], 7) ^ rightRotate(w[i - 15], 18) ^ (w[i-15] >> 3)\n",
    "            s1 = rightRotate(w[i - 2], 17) ^ rightRotate(w[i - 2], 19) ^ (w[i-2] >> 10)\n",
    "            w.append((w[i - 16] + s0 + w[i - 7] + s1) & 0xffffffff)\n",
    "        tmp = np.copy(acc)\n",
    "        for i in range(64):\n",
    "            s0 = rightRotate(tmp[0], 2) ^ rightRotate(tmp[0], 13) ^ rightRotate(tmp[0], 22)\n",
    "            maj = (tmp[0] & tmp[1]) ^ (tmp[0] & tmp[2]) ^ (tmp[1] & tmp[2])\n",
    "            t2 = s0 + maj\n",
    "            s1 = rightRotate(tmp[4], 6) ^ rightRotate(tmp[4], 11) ^ rightRotate(tmp[4], 25)\n",
    "            ch = (tmp[4] & tmp[5]) ^ (~tmp[4] & tmp[6])\n",
    "            t1 = tmp[7] + s1 + ch + k[i] + w[i]\n",
    "            \n",
    "            tmp[7], tmp[6], tmp[5], tmp[4], tmp[3], tmp[2], tmp[1], tmp[0] = \\\n",
    "            tmp[6], tmp[5], tmp[4], (tmp[3] + t1) & 0xffffffff, tmp[2], tmp[1], tmp[0], (t1 + t2) & 0xffffffff\n",
    "        acc += tmp\n",
    "    return acc, timeit.default_timer() - start\n",
    "\n",
    "\n",
    "print(frags)\n",
    "total_time = 0\n",
    "for i in range(len(frags)):\n",
    "    hash_val, interval = sha_256(inputs[i], frags[i])\n",
    "    output = ''\n",
    "    for i in range(8):\n",
    "        output += str(hex(hash_val[i]))[2:].zfill(8)\n",
    "    print(output)\n",
    "    total_time += interval\n",
    "print(\"total time: \", total_time)"
   ]
  },
  {
   "cell_type": "code",
   "execution_count": 10,
   "metadata": {},
   "outputs": [
    {
     "name": "stdout",
     "output_type": "stream",
     "text": [
      "c4b8c26e1ad47a0c4fc70f04bac9104fa27325ae52a76ab8b09675d582b476dc\n",
      "c4080eaee8e54526afbb6facf289b80bfcd5c055e671378875512aae1a79a736\n",
      "b2eb8eee43d9a731c41d1ffff38db3cf8466827496ab36d538b41062fa596c78\n",
      "f6b7d439fc92492b9d6b6b4a3658aba4573dca2764e26f456e33e6c883947d3c\n",
      "4175dc9a85eabf8e3cc1ce200937981b440297e38b12b646ab901a8b956e4ef5\n",
      "552c16fe7362cd4ffda322a0da1036538f0dc8747764293df24976ba86198d11\n",
      "64b74e766783d08a7096bc89583e836229f817019c8497bb572dd0b455394e24\n",
      "cd81b408abd1585cdb1fb97ea7b0b01889e23dc68a8c2fbfb928e364f9696e4b\n",
      "cb8756d5160b82c855f23f3fe53afc54063cd36298cc5dda5758091a7aef13e3\n",
      "cfd076d34555d47549bc9fae2367195092424932e1aa36fb326a0de099f70f0d\n",
      "total time:  0.11188300599997092\n"
     ]
    }
   ],
   "source": [
    "start = timeit.default_timer()\n",
    "\n",
    "for i in range(len(origins)):\n",
    "    m = hashlib.sha256()\n",
    "    for j in range(len(origins[i])):\n",
    "        m.update(inputs[i][j])\n",
    "    print(m.hexdigest())\n",
    "print(\"total time: \", timeit.default_timer() - start)"
   ]
  },
  {
   "cell_type": "markdown",
   "metadata": {},
   "source": [
    "## PL SHA-256"
   ]
  },
  {
   "cell_type": "code",
   "execution_count": null,
   "metadata": {},
   "outputs": [],
   "source": [
    "BRAM0_ADDR = Lab_Design.ip_dict['axi_bram_ctrl_0']['phys_addr']     # input bram 0\n",
    "BRAM0_ADDR_range = Lab_Design.ip_dict['axi_bram_ctrl_0']['addr_range']\n",
    "BRAM0_MMIO = MMIO(BRAM0_ADDR, BRAM0_ADDR_range)\n",
    "BRAM1_ADDR = Lab_Design.ip_dict['axi_bram_ctrl_1']['phys_addr']     # input bram 1\n",
    "BRAM1_ADDR_range = Lab_Design.ip_dict['axi_bram_ctrl_1']['addr_range']\n",
    "BRAM1_MMIO = MMIO(BRAM1_ADDR, BRAM1_ADDR_range)\n",
    "BRAM2_ADDR = Lab_Design.ip_dict['axi_bram_ctrl_2']['phys_addr']     # input bram 2\n",
    "BRAM2_ADDR_range = Lab_Design.ip_dict['axi_bram_ctrl_2']['addr_range']\n",
    "BRAM2_MMIO = MMIO(BRAM2_ADDR, BRAM2_ADDR_range)\n",
    "BRAM3_ADDR = Lab_Design.ip_dict['axi_bram_ctrl_3']['phys_addr']     # input bram 3\n",
    "BRAM3_ADDR_range = Lab_Design.ip_dict['axi_bram_ctrl_3']['addr_range']\n",
    "BRAM3_MMIO = MMIO(BRAM3_ADDR, BRAM3_ADDR_range)\n",
    "BRAM4_ADDR = Lab_Design.ip_dict['axi_bram_ctrl_4']['phys_addr']     # output bram\n",
    "BRAM4_ADDR_range = Lab_Design.ip_dict['axi_bram_ctrl_4']['addr_range']\n",
    "BRAM4_MMIO = MMIO(BRAM4_ADDR, BRAM4_ADDR_range)\n",
    "\n",
    "GPIO0_ADDR = Lab_Design.ip_dict['axi_gpio_0']['phys_addr']           # size_ins\n",
    "GPIO0_ADDR_range = Lab_Design.ip_dict['axi_gpio_0']['addr_range']\n",
    "GPIO1_ADDR = Lab_Design.ip_dict['axi_gpio_1']['phys_addr']           # start / clear\n",
    "GPIO1_ADDR_range = Lab_Design.ip_dict['axi_gpio_1']['addr_range']\n",
    "GPIO2_ADDR = Lab_Design.ip_dict['axi_gpio_2']['phys_addr']           # valid\n",
    "GPIO2_ADDR_range = Lab_Design.ip_dict['axi_gpio_2']['addr_range']\n",
    "GPIO0_MMIO = MMIO(GPIO0_ADDR, GPIO0_ADDR_range)\n",
    "GPIO1_MMIO = MMIO(GPIO1_ADDR, GPIO1_ADDR_range)\n",
    "GPIO2_MMIO = MMIO(GPIO2_ADDR, GPIO2_ADDR_range)\n",
    "\n",
    "bram_addrs = [BRAM0_ADDR, BRAM1_ADDR, BRAM2_ADDR, BRAM3_ADDR, BRAM4_ADDR]\n",
    "bram_ranges = [BRAM0_ADDR_range, BRAM1_ADDR_range, BRAM2_ADDR_range, BRAM3_ADDR_range, BRAM4_ADDR_range]\n",
    "bram_mmio = [BRAM0_MMIO, BRAM1_MMIO, BRAM2_MMIO, BRAM3_MMIO, BRAM4_MMIO]"
   ]
  },
  {
   "cell_type": "code",
   "execution_count": 225,
   "metadata": {
    "collapsed": true
   },
   "outputs": [
    {
     "ename": "NameError",
     "evalue": "name 'bram_mmio' is not defined",
     "output_type": "error",
     "traceback": [
      "\u001b[0;31m---------------------------------------------------------------------------\u001b[0m",
      "\u001b[0;31mNameError\u001b[0m                                 Traceback (most recent call last)",
      "\u001b[0;32m<ipython-input-225-e4d97b9807aa>\u001b[0m in \u001b[0;36m<module>\u001b[0;34m()\u001b[0m\n\u001b[1;32m     36\u001b[0m \u001b[0;32mfor\u001b[0m \u001b[0mi\u001b[0m \u001b[0;32min\u001b[0m \u001b[0mrange\u001b[0m\u001b[0;34m(\u001b[0m\u001b[0;36m4\u001b[0m\u001b[0;34m)\u001b[0m\u001b[0;34m:\u001b[0m\u001b[0;34m\u001b[0m\u001b[0m\n\u001b[1;32m     37\u001b[0m     \u001b[0;32mfor\u001b[0m \u001b[0mj\u001b[0m \u001b[0;32min\u001b[0m \u001b[0mrange\u001b[0m\u001b[0;34m(\u001b[0m\u001b[0mlen\u001b[0m\u001b[0;34m(\u001b[0m\u001b[0minputs\u001b[0m\u001b[0;34m[\u001b[0m\u001b[0mcur_input\u001b[0m\u001b[0;34m]\u001b[0m\u001b[0;34m)\u001b[0m\u001b[0;34m)\u001b[0m\u001b[0;34m:\u001b[0m\u001b[0;34m\u001b[0m\u001b[0m\n\u001b[0;32m---> 38\u001b[0;31m         \u001b[0mbram_mmio\u001b[0m\u001b[0;34m[\u001b[0m\u001b[0mi\u001b[0m\u001b[0;34m]\u001b[0m\u001b[0;34m.\u001b[0m\u001b[0mwrite\u001b[0m\u001b[0;34m(\u001b[0m\u001b[0mj\u001b[0m \u001b[0;34m*\u001b[0m \u001b[0;36m4\u001b[0m\u001b[0;34m,\u001b[0m \u001b[0mint\u001b[0m\u001b[0;34m(\u001b[0m\u001b[0minputs\u001b[0m\u001b[0;34m[\u001b[0m\u001b[0mcur_input\u001b[0m\u001b[0;34m]\u001b[0m\u001b[0;34m[\u001b[0m\u001b[0mj\u001b[0m\u001b[0;34m]\u001b[0m\u001b[0;34m)\u001b[0m\u001b[0;34m)\u001b[0m\u001b[0;34m\u001b[0m\u001b[0m\n\u001b[0m\u001b[1;32m     39\u001b[0m     \u001b[0mstart_sigs\u001b[0m\u001b[0;34m[\u001b[0m\u001b[0mi\u001b[0m\u001b[0;34m]\u001b[0m \u001b[0;34m=\u001b[0m \u001b[0;36m1\u001b[0m\u001b[0;34m\u001b[0m\u001b[0m\n\u001b[1;32m     40\u001b[0m     \u001b[0msend_size_sig\u001b[0m\u001b[0;34m(\u001b[0m\u001b[0mi\u001b[0m\u001b[0;34m,\u001b[0m \u001b[0mfrags\u001b[0m\u001b[0;34m[\u001b[0m\u001b[0mcur_inpts\u001b[0m\u001b[0;34m]\u001b[0m\u001b[0;34m)\u001b[0m\u001b[0;34m\u001b[0m\u001b[0m\n",
      "\u001b[0;31mNameError\u001b[0m: name 'bram_mmio' is not defined"
     ]
    }
   ],
   "source": [
    "start_sigs = [0, 0, 0, 0]\n",
    "sizes = [0, 0, 0, 0]\n",
    "\n",
    "ready_q = []\n",
    "\n",
    "def send_size_sig(n, fragments):\n",
    "    sizes[n] = fragments\n",
    "    output = 0\n",
    "    # [23:18] [17:12] [11:6] [5:0]\n",
    "    # size3   size2   size1  size0\n",
    "    for i in range(3, -1, -1):  # construct size signal (24-bit)\n",
    "        output <<= 6\n",
    "        output += size[i]\n",
    "    GPIO0_MMIO.write(0, output)\n",
    "\n",
    "def send_start_sig():\n",
    "    output = 0\n",
    "    # [3] [2] [1] [0]\n",
    "    # s3  s2  s1  s0\n",
    "    for i in range(3, -1, -1):\n",
    "        output <<= 1\n",
    "        output += start_sigs[i]\n",
    "    GPIO1_MMIO.write(0, oupput)\n",
    "    \n",
    "def parse_valid_sig(valid):\n",
    "    has_valid = 0\n",
    "    for i in range(4):\n",
    "        x = valid & 0x1\n",
    "        if (x == 1 and start_sigs[i] = 1):\n",
    "            ready_q.append(i)  # i is ready for next input\n",
    "            start_sigs[i] = 0\n",
    "            has_valid = 1\n",
    "        valid >>= 1\n",
    "    \n",
    "    if (has_valid)\n",
    "        send_start_sig()\n",
    "    return has_valid\n",
    "\n",
    "def get_hash_result(n):\n",
    "    base_addr = 64 * n\n",
    "    for i in range(0, 32, 4):\n",
    "        x = bram_mmio[4].read(base_addr + i)\n",
    "        output = ''\n",
    "        output += hex(x)[2:].zfill(8)\n",
    "    print(output)\n",
    "\n",
    "cur_input = 0\n",
    "finish_cnt = 0\n",
    "\n",
    "\n",
    "for i in range(4):  # first time filling 4 banks of bram\n",
    "    for j in range(len(inputs[cur_input])): \n",
    "        bram_mmio[i].write(j * 4, int(inputs[cur_input][j]))\n",
    "    start_sigs[i] = 1\n",
    "    send_size_sig(i, frags[cur_inpts])\n",
    "    send_start_sig(i)\n",
    "    cur_input += 1\n",
    "    if cur_input > num:\n",
    "        while (finish_cnt < num):\n",
    "            while (not parse_valid_sig(GPIO2_MMIO.read(0))):\n",
    "                continue\n",
    "            for i in ready_q:\n",
    "                get_hash_result(i)\n",
    "                finish_cnt += 1\n",
    "        break;\n",
    "\n",
    "while (cur_input < num):\n",
    "    while (not parse_valid_sig(GPIO2_MMIO.read(0))):\n",
    "        continue\n",
    "    for i in ready_q:\n",
    "        get_hash_result(i)\n",
    "        for j in range(len(inputs[cur_input])): \n",
    "            bram_mmio[i].write(j * 4, int(inputs[cur_input][j]))\n",
    "        start_sigs[i] = 1\n",
    "        send_size_sig(i, frags[cur_inpts])\n",
    "        send_start_sig(i)\n",
    "        cur_input += 1\n"
   ]
  },
  {
   "cell_type": "code",
   "execution_count": null,
   "metadata": {},
   "outputs": [],
   "source": []
  }
 ],
 "metadata": {
  "kernelspec": {
   "display_name": "Python 3",
   "language": "python",
   "name": "python3"
  },
  "language_info": {
   "codemirror_mode": {
    "name": "ipython",
    "version": 3
   },
   "file_extension": ".py",
   "mimetype": "text/x-python",
   "name": "python",
   "nbconvert_exporter": "python",
   "pygments_lexer": "ipython3",
   "version": "3.6.5"
  }
 },
 "nbformat": 4,
 "nbformat_minor": 2
}
